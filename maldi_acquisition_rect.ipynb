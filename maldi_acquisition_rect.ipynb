{
 "cells": [
  {
   "cell_type": "code",
   "execution_count": null,
   "metadata": {},
   "outputs": [],
   "source": [
    "%load_ext autoreload\n",
    "%autoreload 2\n",
    "# \"%matplotlib widget\" is slightly better, but sometimes doesn't work\n",
    "# \"%matplotlib notebook\" or \"%matplotlib inline\" can be used as alternatives\n",
    "%matplotlib widget\n",
    "import matplotlib.pyplot as plt"
   ]
  },
  {
   "cell_type": "code",
   "execution_count": null,
   "metadata": {},
   "outputs": [],
   "source": [
    "# Debug: show location of imported remote_control code\n",
    "import remote_control\n",
    "remote_control.__file__"
   ]
  },
  {
   "cell_type": "markdown",
   "metadata": {},
   "source": [
    "# Configure acquisition area"
   ]
  },
  {
   "cell_type": "code",
   "execution_count": null,
   "metadata": {
    "scrolled": false
   },
   "outputs": [],
   "source": [
    "from remote_control import acquisition\n",
    "\n",
    "## calibration_positions is used to calculate the Z coordinate for each pixel\n",
    "calibration_positions = [\n",
    "         (422, 4252, -4.4), # Top-left\n",
    "         (-10252, 4187, -94.5), # Top-right\n",
    "         (29, 42684, 122.5), # Bottom-left\n",
    "         (-10536, 42666, 43) # Bottom-right\n",
    "]\n",
    "\n",
    "## target_positions is used to optionally select the target area, if it's different from the calibration positions.\n",
    "## This is optional and can just be set to calibration_positions if they're the same positions\n",
    "target_positions = calibration_positions\n",
    "# target_positions = [\n",
    "#          (400, 2000),\n",
    "#          (-10000, 2000),\n",
    "#          (400, 20000),\n",
    "#          (-10000, 20000)\n",
    "# ]\n",
    "\n",
    "ra = acquisition.RectangularAquisition(\n",
    "    config_fn = 'remote_config.json', \n",
    ")\n",
    "\n",
    "# Set up safety bounds (optional - comment this out if they're unwanted)\n",
    "ra.set_image_bounds(\n",
    "    min_x=-13900,\n",
    "    max_x=3700,\n",
    "    min_y=-450,\n",
    "    max_y=48000,\n",
    ")\n",
    "\n",
    "\n",
    "## Use x_pitch/y_pitch to generate the grid with a specific pitch:\n",
    "ra.generate_targets(\n",
    "    calibration_positions, \n",
    "    target_positions, \n",
    "    x_pitch=100,\n",
    "    y_pitch=100,\n",
    "#     interpolate_xy=True,  # Use interpolate_xy to allow trapezoidal grids\n",
    "#     x_size=200, # Use x_size/y_size to generate grid with a specific size:\n",
    "#     y_size=500,\n",
    ")\n",
    "\n",
    "## Use an image mask if there are areas to avoid\n",
    "# ra.apply_image_mask('rect_acquisition_mask.png')\n",
    "\n",
    "# Display a preview\n",
    "ra.plot_targets()"
   ]
  },
  {
   "cell_type": "markdown",
   "metadata": {},
   "source": [
    "# Write coordinates to file"
   ]
  },
  {
   "cell_type": "code",
   "execution_count": null,
   "metadata": {},
   "outputs": [],
   "source": [
    "OUTPUT_DIR = 'D:\\\\imagingMS\\\\2021_08\\\\your name\\\\'\n",
    "IMZML_PREFIX = OUTPUT_DIR + '01052019_Mouse_DHB_pos_mz200-800_px50x50_LR'"
   ]
  },
  {
   "cell_type": "code",
   "execution_count": null,
   "metadata": {},
   "outputs": [],
   "source": [
    "# Write debug coordinates files\n",
    "ra.write_imzc_coords_file(OUTPUT_DIR + 'positions_imzc.txt')\n",
    "ra.write_json_coords_file(OUTPUT_DIR + 'positions.json')"
   ]
  },
  {
   "cell_type": "markdown",
   "metadata": {},
   "source": [
    "# Run acquisition"
   ]
  },
  {
   "cell_type": "code",
   "execution_count": null,
   "metadata": {
    "scrolled": true
   },
   "outputs": [],
   "source": [
    "ra.acquire(\n",
    "    filename=IMZML_PREFIX, # Prefix for output coordinates file used in ImzML conversion\n",
    "    dummy=True, # False - send commands to MALDI, True - don't connect, just print commands\n",
    "    measure=False, # False - move stage only, True - move stage & acquire data\n",
    "    email_on_success='test@example.com', # Set to None to suppress\n",
    "    email_on_failure='test@example.com',  # Set to None to suppress\n",
    ")"
   ]
  },
  {
   "cell_type": "markdown",
   "metadata": {},
   "source": [
    "# Cleanup\n",
    "After imaging run the following cell to terminate Telnet"
   ]
  },
  {
   "cell_type": "code",
   "execution_count": null,
   "metadata": {},
   "outputs": [],
   "source": [
    "import remote_control.control as rc\n",
    "rc.close(quit=True)"
   ]
  },
  {
   "cell_type": "code",
   "execution_count": null,
   "metadata": {
    "scrolled": true
   },
   "outputs": [],
   "source": []
  },
  {
   "cell_type": "code",
   "execution_count": null,
   "metadata": {},
   "outputs": [],
   "source": []
  }
 ],
 "metadata": {
  "kernelspec": {
   "display_name": "Python [conda env:maldi-control-notebooks]",
   "language": "python",
   "name": "conda-env-maldi-control-notebooks-py"
  },
  "language_info": {
   "codemirror_mode": {
    "name": "ipython",
    "version": 3
   },
   "file_extension": ".py",
   "mimetype": "text/x-python",
   "name": "python",
   "nbconvert_exporter": "python",
   "pygments_lexer": "ipython3",
   "version": "3.8.11"
  },
  "toc": {
   "base_numbering": 1,
   "nav_menu": {},
   "number_sections": true,
   "sideBar": true,
   "skip_h1_title": false,
   "title_cell": "Table of Contents",
   "title_sidebar": "Contents",
   "toc_cell": false,
   "toc_position": {},
   "toc_section_display": "block",
   "toc_window_display": false
  },
  "widgets": {
   "state": {},
   "version": "1.1.0"
  }
 },
 "nbformat": 4,
 "nbformat_minor": 2
}
