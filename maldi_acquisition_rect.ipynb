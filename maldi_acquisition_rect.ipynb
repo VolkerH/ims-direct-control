{
 "cells": [
  {
   "cell_type": "code",
   "execution_count": null,
   "metadata": {
    "collapsed": false
   },
   "outputs": [],
   "source": [
    "%load_ext autoreload\n",
    "%autoreload 2\n",
    "%matplotlib inline\n",
    "import matplotlib.pyplot as plt"
   ]
  },
  {
   "cell_type": "code",
   "execution_count": null,
   "metadata": {
    "collapsed": false
   },
   "outputs": [],
   "source": [
    "import remote_control\n",
    "\n",
    "remote_control.__file__"
   ]
  },
  {
   "cell_type": "code",
   "execution_count": null,
   "metadata": {
    "collapsed": false,
    "scrolled": false
   },
   "outputs": [],
   "source": [
    "from remote_control import acquisition\n",
    "\n",
    "## calibration_positions is used to calculate the Z coordinate for each pixel\n",
    "calibration_positions = [\n",
    "         (422, 4252, -4.4), # Top-left\n",
    "         (-10252, 4187, -94.5), # Top-right\n",
    "         (29, 42684, 122.5), # Bottom-left\n",
    "         (-10536, 42666, 43) # Bottom-right\n",
    "]\n",
    "\n",
    "## target_positions is used to optionally select the target area, if it's different from the calibration positions.\n",
    "## This is optional and can just be set to calibration_positions if they're the same positions\n",
    "target_positions = calibration_positions\n",
    "# target_positions = [\n",
    "#          (400, 2000),\n",
    "#          (-10000, 2000),\n",
    "#          (400, 20000),\n",
    "#          (-10000, 20000)\n",
    "# ]\n",
    "\n",
    "ra = acquisition.RectangularAquisition(config_fn = 'remote_config.json', \n",
    "                                       datadir=\"./data\", # will save spatial position file here\n",
    "                                       log_fname=\"./test.log\")\n",
    "\n",
    "image_bounds = [\n",
    "                  [3700, -450],\n",
    "                  [-13900, 48000],\n",
    "                ] # [.max_x, min_y] [min_x, .max_y] \n",
    "ra.set_image_bounds(image_bounds)\n",
    "\n",
    "## Use x_pitch/y_pitch to generate the grid with a specific pitch:\n",
    "ra.generate_targets(calibration_positions, target_positions, x_pitch=100, y_pitch=100)\n",
    "\n",
    "## Use x_size/y_size to generate grid with a specific size:\n",
    "# ra.generate_targets(calibration_positions, target_positions, x_size=200, y_size=500)\n",
    "\n",
    "## Use interpolate_xy to allow trapezoidal grids\n",
    "# ra.generate_targets(calibration_positions, target_positions, x_size=200, y_size=500, interpolate_xy=True)\n",
    "\n",
    "## Use an image mask if there are areas to avoid\n",
    "# ra.apply_image_mask('rect_acquisition_mask.png')\n",
    "\n",
    "# Display a preview\n",
    "ra.plot_targets()"
   ]
  },
  {
   "cell_type": "code",
   "execution_count": null,
   "metadata": {
    "collapsed": false,
    "scrolled": false
   },
   "outputs": [],
   "source": [
    "# Prefix for output files\n",
    "filename = \"./data/01052019_Mouse_DHB_pos_mz200-800_px50x50_LR\"\n",
    "ra.acquire(filename, dummy=True)"
   ]
  },
  {
   "cell_type": "code",
   "execution_count": null,
   "metadata": {
    "collapsed": false,
    "scrolled": true
   },
   "outputs": [],
   "source": []
  },
  {
   "cell_type": "code",
   "execution_count": null,
   "metadata": {},
   "outputs": [],
   "source": []
  }
 ],
 "metadata": {
  "kernelspec": {
   "display_name": "Python [conda env:ims-direct-control]",
   "language": "python",
   "name": "conda-env-ims-direct-control-py"
  },
  "language_info": {
   "codemirror_mode": {
    "name": "ipython",
    "version": 3
   },
   "file_extension": ".py",
   "mimetype": "text/x-python",
   "name": "python",
   "nbconvert_exporter": "python",
   "pygments_lexer": "ipython3",
   "version": "3.6.6"
  },
  "toc": {
   "nav_menu": {},
   "number_sections": true,
   "sideBar": true,
   "skip_h1_title": false,
   "toc_cell": false,
   "toc_position": {},
   "toc_section_display": "block",
   "toc_window_display": false
  },
  "widgets": {
   "state": {},
   "version": "1.1.0"
  }
 },
 "nbformat": 4,
 "nbformat_minor": 2
}
