{
 "cells": [
  {
   "cell_type": "markdown",
   "metadata": {},
   "source": [
    "# MALDI acquisition of predefined **2D** areas"
   ]
  },
  {
   "cell_type": "markdown",
   "metadata": {},
   "source": [
    "author: Alex Mattausch  \n",
    "version: 0.1.0"
   ]
  },
  {
   "cell_type": "code",
   "execution_count": 15,
   "metadata": {
    "tags": []
   },
   "outputs": [
    {
     "name": "stdout",
     "output_type": "stream",
     "text": [
      "The autoreload extension is already loaded. To reload it, use:\n",
      "  %reload_ext autoreload\n"
     ]
    }
   ],
   "source": [
    "%load_ext autoreload\n",
    "%autoreload 2\n",
    "%matplotlib inline\n",
    "import matplotlib.pyplot as plt\n",
    "import remote_control.control as rc\n",
    "import remote_control.utils as utils\n",
    "\n",
    "#from IPython.display import set_matplotlib_formats\n",
    "#set_matplotlib_formats('svg')\n",
    "\n",
    "from remote_control import acquisition\n",
    "from remote_control.control import configure_fly_at_fixed_z\n",
    "from itertools import product\n",
    "\n",
    "CONFIG_FN = 'remote_config.json'\n",
    "\n",
    "### IN CASE OF ERROR, make sure Jupyter is set to use the \"Python [conda env:maldi-control-notebooks]\" kernel"
   ]
  },
  {
   "cell_type": "code",
   "execution_count": 16,
   "metadata": {},
   "outputs": [],
   "source": [
    "qa = acquisition.EasyQueueAquisition(\n",
    "    config_fn = CONFIG_FN, \n",
    "    datadir=\"./data\" # will save spatial position file here\n",
    ")\n",
    "\n",
    "configure_fly_at_fixed_z(2000, 500) "
   ]
  },
  {
   "cell_type": "markdown",
   "metadata": {},
   "source": [
    "### 1. Define slide area"
   ]
  },
  {
   "cell_type": "code",
   "execution_count": 35,
   "metadata": {},
   "outputs": [],
   "source": [
    "image_bounds = [\n",
    "    [15000, -25000], # bottom-right\n",
    "    [-15000, 25000], # top-left\n",
    "] \n",
    "\n",
    "qa.set_image_bounds(image_bounds)"
   ]
  },
  {
   "cell_type": "markdown",
   "metadata": {},
   "source": [
    "### 2. Calibrate using 3D coordinates"
   ]
  },
  {
   "cell_type": "markdown",
   "metadata": {},
   "source": [
    "**Note:** at least 3 calibration coordinates are required!"
   ]
  },
  {
   "cell_type": "code",
   "execution_count": 85,
   "metadata": {},
   "outputs": [
    {
     "name": "stdout",
     "output_type": "stream",
     "text": [
      "Fit r2 score: 1.000\n"
     ]
    }
   ],
   "source": [
    "cal_points = [\n",
    "    (15000, -25000, 3000), # bottom-right\n",
    "    (0, 0, 3250),\n",
    "    (-15000, 25000, 3500), # top-left\n",
    "] \n",
    "\n",
    "qa.calibrate(cal_points)"
   ]
  },
  {
   "cell_type": "markdown",
   "metadata": {},
   "source": [
    "### 2. Add acquisition areas"
   ]
  },
  {
   "cell_type": "markdown",
   "metadata": {},
   "source": [
    "Run this cell to clear areas and start over:"
   ]
  },
  {
   "cell_type": "code",
   "execution_count": 73,
   "metadata": {},
   "outputs": [],
   "source": [
    "qa.clear_areas()"
   ]
  },
  {
   "cell_type": "code",
   "execution_count": 74,
   "metadata": {},
   "outputs": [
    {
     "data": {
      "text/plain": [
       "AcquistionArea(name='well_1', res_x=5, res_y=5, n_acquisitions=25)"
      ]
     },
     "execution_count": 74,
     "metadata": {},
     "output_type": "execute_result"
    }
   ],
   "source": [
    "qa.add_area(\n",
    "    name=\"well_1\", # <- Optional!\n",
    "    xy=(-10649, -18704),\n",
    "    width=2500,\n",
    "    height=2500,\n",
    "    step_size_x=500,\n",
    "    step_size_y=500\n",
    ")"
   ]
  },
  {
   "cell_type": "code",
   "execution_count": 75,
   "metadata": {},
   "outputs": [
    {
     "data": {
      "text/plain": [
       "AcquistionArea(name='well_2', res_x=100, res_y=100, n_acquisitions=10000)"
      ]
     },
     "execution_count": 75,
     "metadata": {},
     "output_type": "execute_result"
    }
   ],
   "source": [
    "qa.add_area(\n",
    "    name=\"well_2\",\n",
    "    xy=(-10729, -6580),\n",
    "    width=2500,\n",
    "    height=2500,\n",
    "    step_size_x=25,\n",
    "    step_size_y=25\n",
    ")"
   ]
  },
  {
   "cell_type": "code",
   "execution_count": 76,
   "metadata": {},
   "outputs": [
    {
     "data": {
      "text/plain": [
       "AcquistionArea(name='well_3', res_x=10, res_y=4, n_acquisitions=40)"
      ]
     },
     "execution_count": 76,
     "metadata": {},
     "output_type": "execute_result"
    }
   ],
   "source": [
    "qa.add_area(\n",
    "    name=\"well_3\",\n",
    "    xy=(-10729, 22000),\n",
    "    width=2500,\n",
    "    height=1000,\n",
    "    step_size_x=250,\n",
    "    step_size_y=250\n",
    ")"
   ]
  },
  {
   "cell_type": "code",
   "execution_count": 77,
   "metadata": {},
   "outputs": [
    {
     "data": {
      "text/plain": [
       "AcquistionArea(name='well_4', res_x=10, res_y=10, n_acquisitions=100)"
      ]
     },
     "execution_count": 77,
     "metadata": {},
     "output_type": "execute_result"
    }
   ],
   "source": [
    "qa.add_area(\n",
    "    name=\"well_4\",\n",
    "    xy=(10729, -22000),\n",
    "    width=2500,\n",
    "    height=2500,\n",
    "    step_size_x=250,\n",
    "    step_size_y=250\n",
    ")"
   ]
  },
  {
   "cell_type": "code",
   "execution_count": 78,
   "metadata": {},
   "outputs": [
    {
     "data": {
      "text/plain": [
       "AcquistionArea(name='big_area', res_x=30, res_y=30, n_acquisitions=900)"
      ]
     },
     "execution_count": 78,
     "metadata": {},
     "output_type": "execute_result"
    }
   ],
   "source": [
    "qa.add_area(\n",
    "    name=\"big_area\",\n",
    "    xy=(0, 22000),\n",
    "    width=15000,\n",
    "    height=15000,\n",
    "    step_size_x=500,\n",
    "    step_size_y=500\n",
    ")"
   ]
  },
  {
   "cell_type": "code",
   "execution_count": 79,
   "metadata": {
    "tags": []
   },
   "outputs": [
    {
     "name": "stdout",
     "output_type": "stream",
     "text": [
      "total areas: 5\n"
     ]
    },
    {
     "data": {
      "image/png": "[encoded data removed]",
      "text/plain": [
       "<Figure size 432x288 with 1 Axes>"
      ]
     },
     "metadata": {
      "needs_background": "light"
     },
     "output_type": "display_data"
    }
   ],
   "source": [
    "qa.plot_areas(plot_labtek_wells=True)"
   ]
  },
  {
   "cell_type": "markdown",
   "metadata": {},
   "source": [
    "**NOTE:** numbers in boxes indicate acquisition order!"
   ]
  },
  {
   "cell_type": "markdown",
   "metadata": {},
   "source": [
    "### 3. Generate measurement positions from areas"
   ]
  },
  {
   "cell_type": "code",
   "execution_count": 81,
   "metadata": {},
   "outputs": [],
   "source": [
    "qa.generate_targets()"
   ]
  },
  {
   "cell_type": "code",
   "execution_count": 82,
   "metadata": {
    "tags": []
   },
   "outputs": [
    {
     "name": "stdout",
     "output_type": "stream",
     "text": [
      "total pixels:  11065\n"
     ]
    },
    {
     "data": {
      "image/png": "[encoded data removed]",
      "text/plain": [
       "<Figure size 432x288 with 1 Axes>"
      ]
     },
     "metadata": {
      "needs_background": "light"
     },
     "output_type": "display_data"
    },
    {
     "data": {
      "image/png": "[encoded data removed]",
      "text/plain": [
       "<Figure size 432x288 with 2 Axes>"
      ]
     },
     "metadata": {
      "needs_background": "light"
     },
     "output_type": "display_data"
    }
   ],
   "source": [
    "plt.close('all')\n",
    "qa.plot_targets(annotate=True) "
   ]
  },
  {
   "cell_type": "markdown",
   "metadata": {},
   "source": [
    "### 4. Run acquistion\n",
    "\n",
    "Once you are happy with plots above:\n",
    "- Launch Telnet in apsmaldi software\n",
    "- Press START on TUNE somputer\n",
    "- Run the following cell"
   ]
  },
  {
   "cell_type": "code",
   "execution_count": null,
   "metadata": {
    "scrolled": true
   },
   "outputs": [],
   "source": [
    "filename = r\"test\" # Prefix for output files\n",
    "\n",
    "qa.acquire(filename, dummy=True, measure=False)"
   ]
  },
  {
   "cell_type": "code",
   "execution_count": 122,
   "metadata": {},
   "outputs": [],
   "source": [
    "# uncomment first!\n",
    "# ga.acquire(filename, dummy=False, measure=True)"
   ]
  },
  {
   "cell_type": "markdown",
   "metadata": {},
   "source": [
    "### 5. Cleanup\n",
    "After imaging run the following cell to terminate Telnet"
   ]
  },
  {
   "cell_type": "code",
   "execution_count": null,
   "metadata": {},
   "outputs": [],
   "source": [
    "utils.stop_telnet(CONFIG_FN)"
   ]
  }
 ],
 "metadata": {
  "kernelspec": {
   "display_name": "Python [conda env:smaldi]",
   "language": "python",
   "name": "conda-env-smaldi-py"
  },
  "language_info": {
   "codemirror_mode": {
    "name": "ipython",
    "version": 3
   },
   "file_extension": ".py",
   "mimetype": "text/x-python",
   "name": "python",
   "nbconvert_exporter": "python",
   "pygments_lexer": "ipython3",
   "version": "3.7.9"
  }
 },
 "nbformat": 4,
 "nbformat_minor": 4
}
