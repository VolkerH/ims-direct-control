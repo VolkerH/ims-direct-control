{
 "cells": [
  {
   "cell_type": "code",
   "execution_count": null,
   "metadata": {
    "collapsed": false
   },
   "outputs": [],
   "source": [
    "%load_ext autoreload\n",
    "%autoreload 2\n",
    "%matplotlib inline\n",
    "import matplotlib.pyplot as plt"
   ]
  },
  {
   "cell_type": "code",
   "execution_count": null,
   "metadata": {
    "collapsed": false
   },
   "outputs": [],
   "source": [
    "import remote_control\n",
    "\n",
    "remote_control.__file__"
   ]
  },
  {
   "cell_type": "code",
   "execution_count": null,
   "metadata": {},
   "outputs": [],
   "source": [
    "from remote_control.control import configure_fly_at_fixed_z\n",
    "configure_fly_at_fixed_z(2000, 500)"
   ]
  },
  {
   "cell_type": "code",
   "execution_count": null,
   "metadata": {
    "collapsed": false,
    "scrolled": false
   },
   "outputs": [],
   "source": [
    "from remote_control import acquisition\n",
    "slides = acquisition.SLIDES\n",
    "#print(slides)\n",
    "custom_plate =  { \n",
    "    \"name\": \"labtek8\",\n",
    "    \"spot_spacing\": (10.5, 12.5, 1), #hor,ver (mm) centre to centre distance\n",
    "    \"spot_size\": (4.5 ,7, 1), #h, v (mm)\n",
    "    \"grid_size\": (2,4), # h, v,\n",
    "    \"shape\": \"rectangle\",\n",
    "}\n",
    "\n",
    "ga = acquisition.WellPlateGridAquisition(plate_type=custom_plate, \n",
    "                                         config_fn = 'remote_config.json', \n",
    "                                         datadir=\"./data\", # will save spatial position file here\n",
    "                                         log_fname=\"./test.log\")\n",
    "\n",
    "instrument_positions = [\n",
    "         (422, 4252, -4.4),\n",
    "         (-10252, 4187, -94.5),\n",
    "         (29, 42684, 122.5),\n",
    "         (-10536, 42666, 43)\n",
    "]\n",
    "#wells for calibration\n",
    "wells = [\n",
    "    (0,0,0),\n",
    "    (1,0,0),\n",
    "    (0,3,0),\n",
    "    (1,3,0),\n",
    "] \n",
    "\n",
    "image_bounds = [\n",
    "                  [3700, -450],\n",
    "                  [-13900, 48000],\n",
    "                ] # [.max_x, min_y] [min_x, .max_y] \n",
    "\n",
    "ga.calibrate(instrument_positions, wells, 'centre') #calibration point location!\n",
    "ga.set_image_bounds(image_bounds)\n",
    "\n",
    "#plt.figure()\n",
    "#plt.scatter([c[0] for c in instrument_positions], [c[1] for c in instrument_positions])\n",
    "#plt.show()\n",
    "\n",
    "#plt.figure()\n",
    "#plt.scatter([c[0] for c in instrument_positions], [c[1] for c in wells])\n",
    "#plt.show()\n",
    "\n",
    "spotsToUse = [\n",
    "(0, 0),\n",
    "(1, 0),\n",
    "(0, 1),\n",
    "(1, 1),\n",
    "(0, 2), \n",
    "(1, 2),\n",
    "(0, 3),\n",
    "(1, 3)    \n",
    "]\n",
    "\n",
    "# Generate coordinates & preview\n",
    "ga.generate_targets(spotsToUse, offset_x=0, offset_y=0, pixelsize_x=50, pixelsize_y=50, area_function_name='lower_right')\n",
    "ga.plot_targets()"
   ]
  },
  {
   "cell_type": "markdown",
   "metadata": {},
   "source": [
    "# Write coordinates to file locally"
   ]
  },
  {
   "cell_type": "code",
   "execution_count": null,
   "metadata": {},
   "outputs": [],
   "source": [
    "ga.write_imzc_coords_file('./data/positions_imzc.txt')\n",
    "ga.write_json_coords_file('./data/positions.json')"
   ]
  },
  {
   "cell_type": "markdown",
   "metadata": {},
   "source": [
    "# Perform acquisition & write to file in output directory"
   ]
  },
  {
   "cell_type": "code",
   "execution_count": null,
   "metadata": {
    "collapsed": false,
    "scrolled": false
   },
   "outputs": [],
   "source": [
    "filename = \"./data/01052019_Mouse_DHB_pos_mz200-800_px50x50_LR\" # Prefix for output files\n",
    "\n",
    "ga.acquire(filename, dummy=True)"
   ]
  }
 ],
 "metadata": {
  "kernelspec": {
   "display_name": "Python [conda env:ims-direct-control]",
   "language": "python",
   "name": "conda-env-ims-direct-control-py"
  },
  "language_info": {
   "codemirror_mode": {
    "name": "ipython",
    "version": 3
   },
   "file_extension": ".py",
   "mimetype": "text/x-python",
   "name": "python",
   "nbconvert_exporter": "python",
   "pygments_lexer": "ipython3",
   "version": "3.7.3"
  },
  "toc": {
   "nav_menu": {},
   "number_sections": true,
   "sideBar": true,
   "skip_h1_title": false,
   "toc_cell": false,
   "toc_position": {},
   "toc_section_display": "block",
   "toc_window_display": false
  },
  "widgets": {
   "state": {},
   "version": "1.1.0"
  }
 },
 "nbformat": 4,
 "nbformat_minor": 2
}
