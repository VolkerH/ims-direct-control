{
 "cells": [
  {
   "cell_type": "code",
   "execution_count": null,
   "metadata": {},
   "outputs": [],
   "source": [
    "%load_ext autoreload\n",
    "%autoreload 2\n",
    "# \"%matplotlib widget\" is slightly better, but sometimes doesn't work\n",
    "# \"%matplotlib notebook\" or \"%matplotlib inline\" can be used as alternatives\n",
    "%matplotlib widget\n",
    "import matplotlib.pyplot as plt"
   ]
  },
  {
   "cell_type": "code",
   "execution_count": null,
   "metadata": {},
   "outputs": [],
   "source": [
    "# Debug: show location of imported remote_control code\n",
    "import remote_control\n",
    "remote_control.__file__"
   ]
  },
  {
   "cell_type": "markdown",
   "metadata": {},
   "source": [
    "# Configure acquisition area"
   ]
  },
  {
   "cell_type": "code",
   "execution_count": null,
   "metadata": {
    "scrolled": false
   },
   "outputs": [],
   "source": [
    "from remote_control import acquisition\n",
    "from remote_control.control import configure_fly_at_fixed_z\n",
    "CONFIG_FN = 'remote_config.json'\n",
    "slides = acquisition.SLIDES\n",
    "#print(slides)\n",
    "\n",
    "custom_plate =  { \n",
    "    \"name\": \"labtek8\",\n",
    "    \"spot_spacing\": (10.5, 12.5, 1), #hor,ver (mm) centre to centre distance\n",
    "    \"spot_size\": (4.5 ,7, 1), #h, v (mm)\n",
    "    \"grid_size\": (2, 4), # h, v,\n",
    "    \"shape\": \"rectangle\",\n",
    "}\n",
    "\n",
    "ga = acquisition.WellPlateGridAquisition(\n",
    "    plate_type=custom_plate, \n",
    "    config_fn=CONFIG_FN, \n",
    ")\n",
    "\n",
    "instrument_positions = [\n",
    "         (422, 4252, -4.4),\n",
    "         (-10252, 4187, -94.5),\n",
    "         (29, 42684, 122.5),\n",
    "         (-10536, 42666, 43)\n",
    "]\n",
    "#wells for calibration\n",
    "wells = [\n",
    "    (0,0,0),\n",
    "    (1,0,0),\n",
    "    (0,3,0),\n",
    "    (1,3,0),\n",
    "] \n",
    "ga.calibrate(instrument_positions, wells, 'centre') #calibration point location!\n",
    "\n",
    "# Set up safety bounds (optional - comment this out if they're unwanted)\n",
    "ga.set_image_bounds(\n",
    "    min_x=-13900,\n",
    "    max_x=3700,\n",
    "    min_y=-450,\n",
    "    max_y=48000,\n",
    ")\n",
    "\n",
    "# For plates with recessed wells, uncomment and configure this to move the slide away when moving between wells.\n",
    "# If the stage needs to move in the X/Y plane more than \"distance\", it will move the stage's Z axis\n",
    "# to the value of the \"z\" parameter. \n",
    "# configure_fly_at_fixed_z(distance=2000, z=3000) # Enable\n",
    "configure_fly_at_fixed_z(distance=None, z=None) # Disable\n",
    "\n",
    "spotsToUse = [\n",
    "(0, 0),\n",
    "(1, 0),\n",
    "#(0, 1),\n",
    "(1, 1),\n",
    "#(0, 2), \n",
    "(1, 2),\n",
    "(0, 3),\n",
    "# (1, 3),\n",
    "]\n",
    "\n",
    "# Generate coordinates & preview\n",
    "ga.generate_targets(\n",
    "    spotsToUse, \n",
    "    offset_x=0, \n",
    "    offset_y=0, \n",
    "    pixelsize_x=50, \n",
    "    pixelsize_y=50, \n",
    "    area_function_name='lower_right')\n",
    "ga.plot_targets(annotate=True)"
   ]
  },
  {
   "cell_type": "markdown",
   "metadata": {},
   "source": [
    "# Write coordinates to file"
   ]
  },
  {
   "cell_type": "code",
   "execution_count": null,
   "metadata": {},
   "outputs": [],
   "source": [
    "OUTPUT_DIR = 'D:\\\\imagingMS\\\\2021_08\\\\your name\\\\'\n",
    "IMZML_PREFIX = OUTPUT_DIR + '01052019_Mouse_DHB_pos_mz200-800_px50x50_LR'"
   ]
  },
  {
   "cell_type": "code",
   "execution_count": null,
   "metadata": {},
   "outputs": [],
   "source": [
    "ga.write_imzc_coords_file(OUTPUT_DIR + 'positions_imzc.txt')\n",
    "ga.write_json_coords_file(OUTPUT_DIR + 'positions.json')"
   ]
  },
  {
   "cell_type": "markdown",
   "metadata": {},
   "source": [
    "# Run acquisition"
   ]
  },
  {
   "cell_type": "code",
   "execution_count": null,
   "metadata": {
    "scrolled": false
   },
   "outputs": [],
   "source": [
    "ga.acquire(\n",
    "    filename=IMZML_PREFIX, # Prefix for output coordinates files\n",
    "    dummy=True, # False - send commands to MALDI, True - don't connect, just print commands\n",
    "    measure=False, # False - move stage only, True - move stage & acquire data\n",
    "    email_on_success='test@example.com', # Set to None to suppress\n",
    "    email_on_failure='test@example.com',  # Set to None to suppress\n",
    ")"
   ]
  },
  {
   "cell_type": "markdown",
   "metadata": {},
   "source": [
    "# Cleanup\n",
    "After imaging run the following cell to terminate Telnet"
   ]
  },
  {
   "cell_type": "code",
   "execution_count": null,
   "metadata": {},
   "outputs": [],
   "source": [
    "import remote_control.control as rc\n",
    "rc.close(quit=True)"
   ]
  },
  {
   "cell_type": "code",
   "execution_count": null,
   "metadata": {},
   "outputs": [],
   "source": []
  }
 ],
 "metadata": {
  "kernelspec": {
   "display_name": "Python [conda env:maldi-control-notebooks]",
   "language": "python",
   "name": "conda-env-maldi-control-notebooks-py"
  },
  "language_info": {
   "codemirror_mode": {
    "name": "ipython",
    "version": 3
   },
   "file_extension": ".py",
   "mimetype": "text/x-python",
   "name": "python",
   "nbconvert_exporter": "python",
   "pygments_lexer": "ipython3",
   "version": "3.8.11"
  },
  "toc": {
   "base_numbering": 1,
   "nav_menu": {
    "height": "12px",
    "width": "246px"
   },
   "number_sections": true,
   "sideBar": true,
   "skip_h1_title": false,
   "title_cell": "Table of Contents",
   "title_sidebar": "Contents",
   "toc_cell": false,
   "toc_position": {},
   "toc_section_display": "block",
   "toc_window_display": false
  }
 },
 "nbformat": 4,
 "nbformat_minor": 2
}
