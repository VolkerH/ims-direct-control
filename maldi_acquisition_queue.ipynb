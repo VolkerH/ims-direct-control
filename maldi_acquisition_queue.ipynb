{
 "cells": [
  {
   "cell_type": "markdown",
   "metadata": {},
   "source": [
    "# MALDI acquisition of predefined areas"
   ]
  },
  {
   "cell_type": "markdown",
   "metadata": {},
   "source": [
    "author: Alex Mattausch  \n",
    "version: 0.1.0"
   ]
  },
  {
   "cell_type": "code",
   "execution_count": 1,
   "metadata": {
    "tags": []
   },
   "outputs": [
    {
     "name": "stdout",
     "output_type": "stream",
     "text": [
      "The autoreload extension is already loaded. To reload it, use:\n",
      "  %reload_ext autoreload\n"
     ]
    }
   ],
   "source": [
    "%load_ext autoreload\n",
    "%autoreload 2\n",
    "# \"%matplotlib widget\" is slightly better, but sometimes doesn't work\n",
    "# \"%matplotlib notebook\" or \"%matplotlib inline\" can be used as alternatives\n",
    "%matplotlib widget\n",
    "import matplotlib.pyplot as plt\n",
    "import remote_control.control as rc\n",
    "import remote_control.utils as utils\n",
    "\n",
    "#from IPython.display import set_matplotlib_formats\n",
    "#set_matplotlib_formats('svg')\n",
    "\n",
    "from remote_control import acquisition\n",
    "from remote_control.control import configure_fly_at_fixed_z\n",
    "from itertools import product\n",
    "\n",
    "CONFIG_FN = 'remote_config.json'\n",
    "\n",
    "### IN CASE OF ERROR, make sure Jupyter is set to use the \"Python [conda env:maldi-control-notebooks]\" kernel"
   ]
  },
  {
   "cell_type": "code",
   "execution_count": 2,
   "metadata": {},
   "outputs": [],
   "source": [
    "qa = acquisition.QueueAquisition(\n",
    "    config_fn = CONFIG_FN, \n",
    "    datadir=\"./data\" # will save spatial position file here\n",
    ")"
   ]
  },
  {
   "cell_type": "code",
   "execution_count": 3,
   "metadata": {},
   "outputs": [],
   "source": [
    "# For plates with recessed wells, configure this to move the slide away when moving between wells.\n",
    "# If the stage needs to move in the X/Y plane more than \"distance\", it will move the stage's Z axis\n",
    "# to the value of the \"z\" parameter. \n",
    "# configure_fly_at_fixed_z(distance=2000, z=3000) # Enable\n",
    "configure_fly_at_fixed_z(distance=None, z=None) # Disable"
   ]
  },
  {
   "cell_type": "markdown",
   "metadata": {},
   "source": [
    "### 1. Define slide area"
   ]
  },
  {
   "cell_type": "code",
   "execution_count": 4,
   "metadata": {},
   "outputs": [],
   "source": [
    "# Set up safety bounds (optional - comment this out if they're unwanted)\n",
    "qa.set_image_bounds(\n",
    "    min_x=-15000,\n",
    "    max_x=15000,\n",
    "    min_y=-25000,\n",
    "    max_y=25000,\n",
    ")"
   ]
  },
  {
   "cell_type": "markdown",
   "metadata": {},
   "source": [
    "### 2. Add acquisition areas"
   ]
  },
  {
   "cell_type": "markdown",
   "metadata": {},
   "source": [
    "Run this cell to clear areas and start over:"
   ]
  },
  {
   "cell_type": "code",
   "execution_count": 5,
   "metadata": {},
   "outputs": [],
   "source": [
    "qa.clear_areas()"
   ]
  },
  {
   "cell_type": "code",
   "execution_count": 6,
   "metadata": {},
   "outputs": [
    {
     "data": {
      "text/plain": [
       "AcquistionArea(name='well_1', res_x=13, res_y=6, n_acquisitions=78)"
      ]
     },
     "execution_count": 6,
     "metadata": {},
     "output_type": "execute_result"
    }
   ],
   "source": [
    "qa.add_area(\n",
    "    name=\"well_1\", # <- Optional!\n",
    "    line_start=(-10649, -18704, 3444),\n",
    "    line_end=(-4149, -18704, 3444),\n",
    "    perpendicular=(-9399, -24204, 3444),\n",
    "    step_size_x=500,\n",
    "    step_size_y=1000\n",
    ")"
   ]
  },
  {
   "cell_type": "code",
   "execution_count": 7,
   "metadata": {},
   "outputs": [
    {
     "data": {
      "text/plain": [
       "AcquistionArea(name='well_2', res_x=100, res_y=100, n_acquisitions=10000)"
      ]
     },
     "execution_count": 7,
     "metadata": {},
     "output_type": "execute_result"
    }
   ],
   "source": [
    "qa.add_area(\n",
    "    name=\"well_2\",\n",
    "    line_start=(-10729, -6580, 3444),\n",
    "    line_end=(-8229, -6580, 3444),\n",
    "    perpendicular=(-9479, -9080, 3444),\n",
    "    step_size_x=25,\n",
    "    step_size_y=25\n",
    ")"
   ]
  },
  {
   "cell_type": "code",
   "execution_count": 8,
   "metadata": {},
   "outputs": [
    {
     "data": {
      "text/plain": [
       "AcquistionArea(name='well_4', res_x=10, res_y=16, n_acquisitions=160)"
      ]
     },
     "execution_count": 8,
     "metadata": {},
     "output_type": "execute_result"
    }
   ],
   "source": [
    "qa.add_area(\n",
    "    name=\"well_4\",\n",
    "    line_start=(-10729, 22000, 3444),\n",
    "    line_end=(-8229, 22000, 3444),\n",
    "    perpendicular=(-9479, 18000, 3444),\n",
    "    step_size_x=250,\n",
    "    step_size_y=250\n",
    ")"
   ]
  },
  {
   "cell_type": "code",
   "execution_count": 9,
   "metadata": {
    "tags": []
   },
   "outputs": [
    {
     "name": "stdout",
     "output_type": "stream",
     "text": [
      "total areas: 3\n"
     ]
    },
    {
     "data": {
      "application/vnd.jupyter.widget-view+json": {
       "model_id": "c0c5a180034843f9b4537af9da87e5e0",
       "version_major": 2,
       "version_minor": 0
      },
      "text/plain": [
       "Canvas(toolbar=Toolbar(toolitems=[('Home', 'Reset original view', 'home', 'home'), ('Back', 'Back to previous …"
      ]
     },
     "metadata": {},
     "output_type": "display_data"
    }
   ],
   "source": [
    "qa.plot_areas()"
   ]
  },
  {
   "cell_type": "markdown",
   "metadata": {},
   "source": [
    "**NOTE:** numbers in boxes indicate acquisition order!"
   ]
  },
  {
   "cell_type": "markdown",
   "metadata": {},
   "source": [
    "### 3. Generate measurement positions from areas"
   ]
  },
  {
   "cell_type": "code",
   "execution_count": 10,
   "metadata": {},
   "outputs": [],
   "source": [
    "qa.generate_targets()"
   ]
  },
  {
   "cell_type": "code",
   "execution_count": 11,
   "metadata": {
    "tags": []
   },
   "outputs": [
    {
     "data": {
      "application/vnd.jupyter.widget-view+json": {
       "model_id": "fb8c98e49bfd40cfa686f4531dd2eb38",
       "version_major": 2,
       "version_minor": 0
      },
      "text/plain": [
       "Tab(children=(Output(), Output()), _titles={'1': 'ImzML layout', '0': 'Stage positions'})"
      ]
     },
     "metadata": {},
     "output_type": "display_data"
    },
    {
     "data": {
      "application/vnd.jupyter.widget-view+json": {
       "model_id": "fda3988f7c474e1e9ab752e4e7e05c46",
       "version_major": 2,
       "version_minor": 0
      },
      "text/plain": [
       "Output()"
      ]
     },
     "metadata": {},
     "output_type": "display_data"
    },
    {
     "data": {
      "application/vnd.jupyter.widget-view+json": {
       "model_id": "bd0c166b31ef41d8a66d1479b1d74cee",
       "version_major": 2,
       "version_minor": 0
      },
      "text/plain": [
       "Output()"
      ]
     },
     "metadata": {},
     "output_type": "display_data"
    }
   ],
   "source": [
    "plt.close('all')\n",
    "qa.plot_targets(annotate=True) "
   ]
  },
  {
   "cell_type": "markdown",
   "metadata": {},
   "source": [
    "### 4. Run acquistion\n",
    "\n",
    "Once you are happy with plots above:\n",
    "- Launch Telnet in apsmaldi software\n",
    "- Press START on TUNE somputer\n",
    "- Run the following cell with dummy=True to test coordinates\n",
    "- Run the following cell with dummy=Fase, measure=True to perform acquisition"
   ]
  },
  {
   "cell_type": "code",
   "execution_count": null,
   "metadata": {
    "scrolled": true
   },
   "outputs": [],
   "source": [
    "OUTPUT_DIR = 'D:\\\\imagingMS\\\\2021_08\\\\your name\\\\'\n",
    "IMZML_PREFIX = OUTPUT_DIR + '01052019_Mouse_DHB_pos_mz200-800_px50x50_LR'\n",
    "\n",
    "qa.acquire(\n",
    "    filename=IMZML_PREFIX, # Prefix for output coordinates file used in ImzML conversion\n",
    "    dummy=True, # False - send commands to MALDI, True - don't connect, just print commands\n",
    "    measure=False, # False - move stage only, True - move stage & acquire data\n",
    "    email_on_success='test@example.com', # Set to None to suppress\n",
    "    email_on_failure='test@example.com',  # Set to None to suppress\n",
    ")"
   ]
  },
  {
   "cell_type": "markdown",
   "metadata": {},
   "source": [
    "### 5. Cleanup\n",
    "After imaging run the following cell to terminate Telnet"
   ]
  },
  {
   "cell_type": "code",
   "execution_count": null,
   "metadata": {},
   "outputs": [],
   "source": [
    "rc.close(quit=True)"
   ]
  }
 ],
 "metadata": {
  "kernelspec": {
   "display_name": "Python [conda env:maldi-control-notebooks]",
   "language": "python",
   "name": "conda-env-maldi-control-notebooks-py"
  },
  "language_info": {
   "codemirror_mode": {
    "name": "ipython",
    "version": 3
   },
   "file_extension": ".py",
   "mimetype": "text/x-python",
   "name": "python",
   "nbconvert_exporter": "python",
   "pygments_lexer": "ipython3",
   "version": "3.8.11"
  },
  "toc": {
   "base_numbering": 1,
   "nav_menu": {},
   "number_sections": true,
   "sideBar": true,
   "skip_h1_title": false,
   "title_cell": "Table of Contents",
   "title_sidebar": "Contents",
   "toc_cell": false,
   "toc_position": {},
   "toc_section_display": true,
   "toc_window_display": false
  }
 },
 "nbformat": 4,
 "nbformat_minor": 4
}
